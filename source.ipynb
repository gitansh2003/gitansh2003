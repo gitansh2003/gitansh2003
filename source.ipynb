{
 "cells": [
  {
   "cell_type": "code",
   "execution_count": 113,
   "metadata": {},
   "outputs": [],
   "source": [
    "import tkinter as tk\n",
    "from tkinter import *"
   ]
  },
  {
   "cell_type": "code",
   "execution_count": 114,
   "metadata": {},
   "outputs": [],
   "source": [
    "def clear_all() :\n",
    " \n",
    "    # whole content of entry boxes is deleted\n",
    "    ic_field.delete(0, END)  \n",
    "    bkg_field.delete(0, END)\n",
    "    eff_field.delete(0, END)\n",
    "    kr_field.delete(0, END)\n",
    "   \n",
    "    # set focus on the principal_field entry box \n",
    "    ic_field.focus_set()"
   ]
  },
  {
   "cell_type": "code",
   "execution_count": 115,
   "metadata": {},
   "outputs": [],
   "source": [
    "def kr():\n",
    "    ic=float(ic_field.get())\n",
    "    bkg=float(bkg_field.get())\n",
    "    eff=float(eff_field.get())\n",
    "    kr=((ic-bkg)*1.65)/(3600*2.9*3.7*eff)\n",
    "    kr_field.insert(100,kr)"
   ]
  },
  {
   "cell_type": "code",
   "execution_count": 116,
   "metadata": {},
   "outputs": [],
   "source": [
    "if __name__ == \"__main__\" :\n",
    "    root=tk.Tk()\n",
    "    root.configure(background = 'light green')\n",
    "   \n",
    "    # Set the configuration of GUI window\n",
    "    root.geometry(\"%dx%d\" % (350, 250))\n",
    "    # set the name of tkinter GUI window\n",
    "    root.title(\"Krypton Calculator\")\n",
    "    root.resizable(height=0, width=0)\n",
    "    l1=Label(root,text=\"Integrated Counts\",fg=\"black\",bg=\"grey\")\n",
    "    l2=Label(root,text=\"Background Counts\",fg=\"black\",bg=\"grey\")\n",
    "    l3=Label(root,text=\"Efficiency (in %)\",fg=\"black\",bg=\"grey\")\n",
    "    l4=Label(root,text=\"Krypton Activity\",fg=\"black\",bg=\"grey\")\n",
    "    l1.grid(row=1,column=0,padx=20,pady=10)\n",
    "    l2.grid(row=2,column=0,padx=20,pady=10)\n",
    "    l3.grid(row=3,column=0,padx=20,pady=10)\n",
    "    l4.grid(row=4,column=0,padx=20,pady=10)\n",
    "    ic_field=Entry(root)\n",
    "    bkg_field=Entry(root)\n",
    "    eff_field=Entry(root)\n",
    "    kr_field=Entry(root)\n",
    "    "
   ]
  },
  {
   "cell_type": "code",
   "execution_count": 117,
   "metadata": {},
   "outputs": [],
   "source": [
    " ic_field.grid(row = 1, column = 1, padx = 10, pady = 10)\n",
    " bkg_field.grid(row = 2, column = 1, padx = 10, pady = 10)\n",
    " eff_field.grid(row = 3, column = 1, padx = 10, pady = 10) \n",
    " kr_field.grid(row = 4, column = 1, padx = 10, pady = 10)\n",
    " b1 = Button(root, text = \"Submit\", bg = \"red\",fg = \"black\", command = kr)\n",
    " b2 = Button(root, text = \"Clear\", bg = \"red\", fg = \"black\", command = clear_all)\n",
    " b1.grid(row = 5, column = 1, pady = 10)\n",
    " b2.grid(row = 6, column = 1, pady = 10)"
   ]
  },
  {
   "cell_type": "code",
   "execution_count": 118,
   "metadata": {},
   "outputs": [],
   "source": [
    "\n",
    "\n",
    "root.resizable(0, 0)\n",
    "\n",
    "root.mainloop()"
   ]
  }
 ],
 "metadata": {
  "kernelspec": {
   "display_name": "Python 3 (ipykernel)",
   "language": "python",
   "name": "python3"
  },
  "language_info": {
   "codemirror_mode": {
    "name": "ipython",
    "version": 3
   },
   "file_extension": ".py",
   "mimetype": "text/x-python",
   "name": "python",
   "nbconvert_exporter": "python",
   "pygments_lexer": "ipython3",
   "version": "3.10.9"
  }
 },
 "nbformat": 4,
 "nbformat_minor": 2
}
